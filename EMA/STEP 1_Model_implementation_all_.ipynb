{
 "cells": [
  {
   "cell_type": "markdown",
   "id": "be3a46e9",
   "metadata": {},
   "source": [
    "# IMPLEMENTATION OF COVID UNCERTAINTY MODEL"
   ]
  },
  {
   "cell_type": "markdown",
   "id": "287d245a",
   "metadata": {},
   "source": [
    "### Import and load mode"
   ]
  },
  {
   "cell_type": "code",
   "execution_count": 1,
   "id": "c13db5d5",
   "metadata": {
    "scrolled": true
   },
   "outputs": [
    {
     "name": "stderr",
     "output_type": "stream",
     "text": [
      "C:\\Users\\thomas\\anaconda3\\lib\\site-packages\\ema_workbench\\connectors\\__init__.py:29: ImportWarning: netlogo connector not available\n",
      "  warnings.warn(\"netlogo connector not available\", ImportWarning)\n",
      "C:\\Users\\thomas\\anaconda3\\lib\\site-packages\\ema_workbench\\connectors\\__init__.py:34: ImportWarning: simio connector not available\n",
      "  warnings.warn(\"simio connector not available\", ImportWarning)\n"
     ]
    }
   ],
   "source": [
    "# EMA packages \n",
    "from ema_workbench import (\n",
    "    RealParameter,\n",
    "    TimeSeriesOutcome,\n",
    "    ema_logging,\n",
    "    perform_experiments,\n",
    "    MultiprocessingEvaluator,\n",
    "    Policy\n",
    ")\n",
    "\n",
    "from ema_workbench.connectors.vensim import VensimModel, LookupUncertainty\n",
    "\n",
    "\n",
    "from ema_workbench import ema_logging\n",
    "if __name__ == \"__main__\":\n",
    "    ema_logging.log_to_stderr(ema_logging.INFO)\n",
    "    \n",
    "   \n",
    "    \n",
    "\n",
    "    #model = VensimModel('CovidModel', wd=r\"./model\", model_file=r\"UPDATE_Covid_mobility_model_1708.vpmx\")\n",
    "    model = VensimModel('CovidModel', wd=r\"./model\", model_file=r\"Final_model4.vpmx\")\n",
    "    "
   ]
  },
  {
   "cell_type": "markdown",
   "id": "8f78332f",
   "metadata": {},
   "source": [
    "### Model outcomes"
   ]
  },
  {
   "cell_type": "code",
   "execution_count": null,
   "id": "5cf9a017",
   "metadata": {},
   "outputs": [],
   "source": [
    "#####     #outcomes\n",
    "    model.outcomes= [\n",
    "        #Total movements\n",
    "        TimeSeriesOutcome(\"Total car movements per month\"),\n",
    "        TimeSeriesOutcome(\"Total Public Transport movements per month\"),\n",
    "        TimeSeriesOutcome(\"Total bicycle movements per month\"),\n",
    "        TimeSeriesOutcome(\"Total Telecommuting movements per month\"),\n",
    "        TimeSeriesOutcome(\"Total walking movements per month\"),\n",
    "        \n",
    "        #Total Modal split\n",
    "        TimeSeriesOutcome(\"Total Modal split car\"),\n",
    "        TimeSeriesOutcome(\"Total Modal split PT\"),\n",
    "        TimeSeriesOutcome(\"Total Modal split Bicycle\"),\n",
    "        TimeSeriesOutcome(\"Total Modal split telecommuting\"),\n",
    "        TimeSeriesOutcome(\"Total Modal split Walking\"),\n",
    "        \n",
    "        #movements\n",
    "        #TimeSeriesOutcome(\"Monthly car movements per motive[commuting]\"),\n",
    "        #TimeSeriesOutcome(\"Monthly car movements per motive[educational]\"),\n",
    "        \n",
    "        #TimeSeriesOutcome(\"Monthly tele movements per motive[commuting]\"),\n",
    "        #TimeSeriesOutcome(\"Monthly tele movements per motive[educational]\"), \n",
    "        #TimeSeriesOutcome(\"Monthly car movements[commuting, short trips, Very highly urban]\"),\n",
    "\n",
    "        \n",
    "        #TimeSeriesOutcome(\"Monthly public transport movements per area type[Very highly urban]\"),\n",
    "        #TimeSeriesOutcome(\"Monthly public transport movements per area type[none urban]\"),\n",
    "\n",
    "\n",
    "        #car kpis\n",
    "        #TimeSeriesOutcome(\"CO2 emission car\"),\n",
    "        #TimeSeriesOutcome(\"Total road intensity\"),\n",
    "        TimeSeriesOutcome(\"Congestion level\"),\n",
    "        #TimeSeriesOutcome(\"Car ownership\"),\n",
    "        \n",
    "        TimeSeriesOutcome(\"Road intensity[short trips]\"),\n",
    "        #TimeSeriesOutcome(\"Road intensity[middleshort trips]\"),\n",
    "        #TimeSeriesOutcome(\"Road intensity[middlelong trips]\"),\n",
    "        TimeSeriesOutcome(\"Road intensity[long trips]\"),\n",
    "        \n",
    "        TimeSeriesOutcome(\"Vehicles per month on the road[short trips]\"),\n",
    "        TimeSeriesOutcome(\"Vehicles per month on the road[middleshort trips]\"),\n",
    "        TimeSeriesOutcome(\"Vehicles per month on the road[middlelong trips]\"),\n",
    "        TimeSeriesOutcome(\"Vehicles per month on the road[long trips]\"),\n",
    "        \n",
    "       \n",
    "\n",
    "        \n",
    "       \n",
    "        #TimeSeriesOutcome(\"Modal split bike per motive[commuting]\"),\n",
    "        #TimeSeriesOutcome(\"Modal split bike per motive[educational]\"),\n",
    "        #TimeSeriesOutcome(\"Modal split bike per motive[recreational]\"),\n",
    "        #TimeSeriesOutcome(\"Modal split bike per motive[shopping personal care]\"),\n",
    "        #TimeSeriesOutcome(\"Modal split bike per motive[other motive]\"),\n",
    "       \n",
    "        #TimeSeriesOutcome(\"Modal split car per motive[commuting]\"),\n",
    "        #TimeSeriesOutcome(\"Modal split car per motive[educational]\"),\n",
    "        #TimeSeriesOutcome(\"Modal split car per motive[recreational]\"),\n",
    "        #TimeSeriesOutcome(\"Modal split car per motive[shopping personal care]\"),\n",
    "        #TimeSeriesOutcome(\"Modal split car per motive[other motive]\"),\n",
    "        \n",
    "        #TimeSeriesOutcome(\"Modal split public transport per motive[commuting]\"),\n",
    "        #TimeSeriesOutcome(\"Modal split public transport per motive[educational]\"),\n",
    "        #TimeSeriesOutcome(\"Modal split public transport per motive[recreational]\"),\n",
    "        #TimeSeriesOutcome(\"Modal split public transport per motive[shopping personal care]\"),\n",
    "        #TimeSeriesOutcome(\"Modal split public transport per motive[other motive]\"),\n",
    "        \n",
    "        #TimeSeriesOutcome(\"Modal split tele per motive[commuting]\"),\n",
    "        #TimeSeriesOutcome(\"Modal split tele per motive[educational]\"),\n",
    "        #TimeSeriesOutcome(\"Modal split tele per motive[recreational]\"),\n",
    "        #TimeSeriesOutcome(\"Modal split tele per motive[shopping personal care]\"),\n",
    "        #TimeSeriesOutcome(\"Modal split tele per motive[other motive]\"),\n",
    "        \n",
    "        #TimeSeriesOutcome(\"Modal split walk per motive[commuting]\"),\n",
    "        #TimeSeriesOutcome(\"Modal split walk per motive[educational]\"),\n",
    "        #TimeSeriesOutcome(\"Modal split walk per motive[recreational]\"),\n",
    "        #TimeSeriesOutcome(\"Modal split walk per motive[shopping personal care]\"),\n",
    "        #TimeSeriesOutcome(\"Modal split walk per motive[other motive]\"),\n",
    "       \n",
    "\n",
    "    ]\n",
    "                "
   ]
  },
  {
   "cell_type": "markdown",
   "id": "3e56c61b",
   "metadata": {},
   "source": [
    "### Uncertainties"
   ]
  },
  {
   "cell_type": "code",
   "execution_count": 4,
   "id": "fb9b77f6",
   "metadata": {},
   "outputs": [],
   "source": [
    "\n",
    "    #parameter uncertainties All\n",
    "    model.uncertainties = [\n",
    "\n",
    "        \n",
    "    #COVID uncertainties\n",
    "        \n",
    "        #tele\n",
    "            RealParameter(\"Natural decay without pandemic\", 0.05 ,0.15), # base 0.1\n",
    "            RealParameter(\"Expected telecommuting\", 0.12 ,0.35), # base 0.2\n",
    "            RealParameter(\"Percentage of labor force able to work from home\", 0.4, 0.45),\n",
    "\n",
    "        #PT attitude \n",
    "            RealParameter(\"Perception public transport rate of gaining back trust\", 0.1, 0.6),\n",
    "\n",
    "        #COVID (on movements)\n",
    "            RealParameter('Decay rates of movements in COVID waves[recreational]', 0.05 , 0.1),   #base 0.1 0\n",
    "            RealParameter('Decay rates of movements in COVID waves[shopping personal care]', 0.01 , 0.07), \n",
    "            RealParameter('Decay rates of movements in COVID waves[other motive]', 0.01 , 0.09), \n",
    "\n",
    "    #General uncertainty\n",
    "        ######### DO NOT CHANGE THE INITIAL UTILITIES #######\n",
    "\n",
    "        #Car\n",
    "            RealParameter(\"Variable Car cost increase\", -0.05, 0.1),\n",
    "            RealParameter(\"Variable distribution EV vehicle fleet\", -0.02, 0.05),\n",
    "        \n",
    "        #PT\n",
    "            RealParameter(\"Recovery time PT supply\", 0.25, 1.5),\n",
    "            RealParameter(\"Variable public transport cost increase\", -0.025, 0.025)\n",
    "        \n",
    "    #]\n",
    "\n",
    "        \n",
    "        \n",
    "        \n",
    "    #parameter uncertainties BASE\n",
    "    #model.uncertainties = [\n",
    "    \n",
    "    #COVID uncertainties\n",
    "        \n",
    "        #tele\n",
    "        #RealParameter(\"Natural decay without pandemic\", 0.05 ,0.15), # base 0.1\n",
    "        #RealParameter(\"Expected telecommuting\", 0.15 ,0.25), # base 0.2\n",
    "    \n",
    "        #PT attitude \n",
    "        #RealParameter(\"Perception public transport rate of gaining back trust\", 0.12, 0.3),\n",
    "        \n",
    "    #General uncertainty\n",
    "        ######### DO NOT CHANGE THE INITIAL UTILITIES #######\n",
    "\n",
    "        #Car\n",
    "        #RealParameter(\"Variable Car cost increase\", -0.03, 0.05),\n",
    "        #RealParameter(\"Variable distribution EV vehicle fleet\", -0.01, 0.02),\n",
    "        \n",
    "        #PT\n",
    "        #RealParameter(\"Variable public transport cost increase\", -0.02, 0.02),\n",
    "\n",
    "    ]\n",
    "\n",
    "          \n",
    "\n",
    "              "
   ]
  },
  {
   "cell_type": "markdown",
   "id": "bd163ab2",
   "metadata": {},
   "source": [
    "### Policies"
   ]
  },
  {
   "cell_type": "code",
   "execution_count": null,
   "id": "240aad35",
   "metadata": {},
   "outputs": [],
   "source": [
    "# import policies from Vensim models\n",
    "policies = [Policy('No COVID',\n",
    "                       model_file=r\"Final_model_NO_COV4.vpmx\"),\n",
    "            Policy('COVID base ensemble',\n",
    "                       model_file=r\"Final_model4.vpmx\")\n",
    "           ]\n"
   ]
  },
  {
   "cell_type": "markdown",
   "id": "b81df209",
   "metadata": {},
   "source": [
    "## Perform experiments"
   ]
  },
  {
   "cell_type": "code",
   "execution_count": 5,
   "id": "a053a0ec",
   "metadata": {
    "scrolled": true
   },
   "outputs": [
    {
     "name": "stderr",
     "output_type": "stream",
     "text": [
      "[MainProcess/INFO] performing 5 scenarios * 1 policies * 1 model(s) = 5 experiments\n",
      "  0%|                                                    | 0/5 [00:00<?, ?it/s][MainProcess/INFO] performing experiments sequentially\n",
      "100%|████████████████████████████████████████████| 5/5 [00:22<00:00,  4.46s/it]\n",
      "[MainProcess/INFO] experiments finished\n"
     ]
    }
   ],
   "source": [
    "#Experiment test\n",
    "\n",
    "\n",
    "results = perform_experiments(model, 5)\n",
    "#results = perform_experiments(model, 5 ,  policies = policies)\n",
    "\n",
    "#perform experiments\n",
    "\n"
   ]
  },
  {
   "cell_type": "markdown",
   "id": "4d6bcffb",
   "metadata": {},
   "source": [
    "### Experiments for STEP 2: COVID-19 base ensemb\n",
    "1000 runs\n"
   ]
  },
  {
   "cell_type": "code",
   "execution_count": null,
   "id": "3e094fd0",
   "metadata": {
    "scrolled": true
   },
   "outputs": [],
   "source": [
    "# SEQUENTIAL\n",
    "\n",
    "results = perform_experiments(model, 500, policies = policies, reporting_frequency = 100)\n",
    "#results = perform_experiments(model, 1000, reporting_frequency = 100)\n",
    "\n",
    "#save_results \n",
    "from ema_workbench import save_results\n",
    "\n",
    "save_results(results, r'./results/2709_policy_run_base_v6_1000_trip_purp.tar.gz')\n"
   ]
  },
  {
   "cell_type": "markdown",
   "id": "abd02be2",
   "metadata": {},
   "source": [
    "### Experiments for STEP4: PRIM\n",
    "* 5000 runs\n"
   ]
  },
  {
   "cell_type": "code",
   "execution_count": 6,
   "id": "8e341ea5",
   "metadata": {
    "scrolled": true
   },
   "outputs": [
    {
     "name": "stderr",
     "output_type": "stream",
     "text": [
      "[MainProcess/INFO] performing 5000 scenarios * 1 policies * 1 model(s) = 5000 experiments\n",
      "  0%|                                                 | 0/5000 [00:00<?, ?it/s][MainProcess/INFO] performing experiments sequentially\n",
      "100%|███████████████████████████████████| 5000/5000 [18:33:48<00:00, 13.37s/it]\n",
      "[MainProcess/INFO] experiments finished\n",
      "C:\\Users\\thomas\\anaconda3\\lib\\site-packages\\ema_workbench\\em_framework\\outcomes.py:509: UserWarning: still to be tested!!\n",
      "  warnings.warn(\"still to be tested!!\")\n",
      "[MainProcess/INFO] results saved successfully to C:\\Users\\thomas\\Documents\\MSc TIL\\Afstuderen\\EMAWB\\thesis project\\prim_results\\0110_run_ALL_5000.tar.gz\n"
     ]
    }
   ],
   "source": [
    "#perform experiments\n",
    "nr_experiments = 5000\n",
    "\n",
    "    \n",
    "results5000 = perform_experiments(model, nr_experiments, reporting_interval=100)\n",
    "\n",
    "from ema_workbench import save_results\n",
    "\n",
    "fn = r'./prim_results/0110_run_ALL_5000.tar.gz'.format(nr_experiments)\n",
    "save_results(results5000, fn)"
   ]
  }
 ],
 "metadata": {
  "celltoolbar": "Geen",
  "kernelspec": {
   "display_name": "Python 3 (ipykernel)",
   "language": "python",
   "name": "python3"
  },
  "language_info": {
   "codemirror_mode": {
    "name": "ipython",
    "version": 3
   },
   "file_extension": ".py",
   "mimetype": "text/x-python",
   "name": "python",
   "nbconvert_exporter": "python",
   "pygments_lexer": "ipython3",
   "version": "3.9.12"
  }
 },
 "nbformat": 4,
 "nbformat_minor": 5
}
