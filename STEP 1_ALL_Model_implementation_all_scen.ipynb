{
 "cells": [
  {
   "cell_type": "markdown",
   "id": "be3a46e9",
   "metadata": {},
   "source": [
    "# IMPLEMENTATION OF COVID UNCERTAINTY MODEL"
   ]
  },
  {
   "cell_type": "markdown",
   "id": "287d245a",
   "metadata": {},
   "source": [
    "### Import and load mode"
   ]
  },
  {
   "cell_type": "code",
   "execution_count": 1,
   "id": "c13db5d5",
   "metadata": {
    "scrolled": true
   },
   "outputs": [
    {
     "name": "stderr",
     "output_type": "stream",
     "text": [
      "C:\\Users\\thomas\\anaconda3\\lib\\site-packages\\ema_workbench\\connectors\\__init__.py:29: ImportWarning: netlogo connector not available\n",
      "  warnings.warn(\"netlogo connector not available\", ImportWarning)\n",
      "C:\\Users\\thomas\\anaconda3\\lib\\site-packages\\ema_workbench\\connectors\\__init__.py:34: ImportWarning: simio connector not available\n",
      "  warnings.warn(\"simio connector not available\", ImportWarning)\n"
     ]
    }
   ],
   "source": [
    "# EMA packages \n",
    "from ema_workbench import (\n",
    "    RealParameter,\n",
    "    TimeSeriesOutcome,\n",
    "    ema_logging,\n",
    "    perform_experiments,\n",
    "    MultiprocessingEvaluator,   \n",
    ")\n",
    "\n",
    "from ema_workbench.connectors.vensim import VensimModel, LookupUncertainty\n",
    "\n",
    "\n",
    "from ema_workbench import ema_logging\n",
    "if __name__ == \"__main__\":\n",
    "    ema_logging.log_to_stderr(ema_logging.INFO)\n",
    "    \n",
    "   \n",
    "    \n",
    "    model = VensimModel('CovidModel', wd=r\"./model\", model_file=r\"1408_final_model_update_with_penal_move.vpmx\")\n",
    "    "
   ]
  },
  {
   "cell_type": "markdown",
   "id": "8f78332f",
   "metadata": {},
   "source": [
    "### Model outcomes"
   ]
  },
  {
   "cell_type": "code",
   "execution_count": 2,
   "id": "8ea46621",
   "metadata": {},
   "outputs": [],
   "source": [
    "\n",
    "    #outcomes\n",
    "    model.outcomes= [\n",
    "        #Total movements\n",
    "        TimeSeriesOutcome(\"Total car movements per month\"),\n",
    "        TimeSeriesOutcome(\"Total Public Transport movements per month\"),\n",
    "        TimeSeriesOutcome(\"Total bicycle movements per month\"),\n",
    "        TimeSeriesOutcome(\"Total Telecommuting movements per month\"),\n",
    "        TimeSeriesOutcome(\"Total walking movements per month\"),\n",
    "        \n",
    "        #Total Modal split\n",
    "        TimeSeriesOutcome(\"Total Modal split car\"),\n",
    "        TimeSeriesOutcome(\"Total Modal split PT\"),\n",
    "        TimeSeriesOutcome(\"Total Modal split Bicycle\"),\n",
    "        TimeSeriesOutcome(\"Total Modal split telecommuting\"),\n",
    "        TimeSeriesOutcome(\"Total Modal split Walking\"),\n",
    "        \n",
    "        #movements\n",
    "        TimeSeriesOutcome(\"Monthly car movements per motive[commuting]\"),\n",
    "        TimeSeriesOutcome(\"Monthly car movements per motive[educational]\"),\n",
    "        TimeSeriesOutcome(\"Monthly car movements[commuting, short trips, Very highly urban]\"),\n",
    "\n",
    "        \n",
    "        TimeSeriesOutcome(\"Monthly public transport movements per area type[Very highly urban]\"),\n",
    "        TimeSeriesOutcome(\"Monthly public transport movements per area type[none urban]\"),\n",
    "\n",
    "\n",
    "        #car kpis\n",
    "        TimeSeriesOutcome(\"CO2 emission car\"),\n",
    "        TimeSeriesOutcome(\"Total road intensity\"),\n",
    "        TimeSeriesOutcome(\"Congestion level\"),\n",
    "        TimeSeriesOutcome(\"Car ownership\"),\n",
    "        \n",
    "        TimeSeriesOutcome(\"Road intensity[short trips]\"),\n",
    "        #TimeSeriesOutcome(\"Road intensity[middleshort trips]\"),\n",
    "        #TimeSeriesOutcome(\"Road intensity[middlelong trips]\"),\n",
    "        TimeSeriesOutcome(\"Road intensity[long trips]\"),\n",
    "       \n",
    "\n",
    "        #Pt\n",
    "        #TimeSeriesOutcome(\"Number of transit traveller per day\"),\n",
    "        \n",
    "        #Telecommuting\n",
    "        #TimeSeriesOutcome(\"Number of telecommuters per day\"),\n",
    "        \n",
    "\n",
    "    ]\n",
    "                "
   ]
  },
  {
   "cell_type": "markdown",
   "id": "3e56c61b",
   "metadata": {},
   "source": [
    "### Uncertainties"
   ]
  },
  {
   "cell_type": "code",
   "execution_count": 3,
   "id": "fb9b77f6",
   "metadata": {},
   "outputs": [
    {
     "data": {
      "text/plain": [
       "''"
      ]
     },
     "execution_count": 3,
     "metadata": {},
     "output_type": "execute_result"
    }
   ],
   "source": [
    "\n",
    "    #parameter uncertainties All\n",
    "    model.uncertainties = [\n",
    "\n",
    "        \n",
    "    #COVID uncertainties\n",
    "        \n",
    "        #tele\n",
    "        RealParameter(\"Natural decay without pandemic\", 0.05 ,0.15), # base 0.1\n",
    "        RealParameter(\"Expected telecommuting\", 0.12 ,0.35), # base 0.2\n",
    "        RealParameter(\"Percentage of labor force able to work from home\", 0.4, 0.45),\n",
    "\n",
    "        #PT attitude \n",
    "        RealParameter(\"Perception public transport rate of gaining back trust\", 0.1, 0.6),\n",
    "\n",
    "        #COVID (on movements)\n",
    "        RealParameter('Decay rates of movements in COVID waves[recreational]', 0.01 , 0.1),   #base 0.1 0\n",
    "        RealParameter('Decay rates of movements in COVID waves[shopping personal care]', 0.01 , 0.07), \n",
    "        RealParameter('Decay rates of movements in COVID waves[other motive]', 0.01 , 0.09), \n",
    "\n",
    "    #Global uncertainty\n",
    "        ######### DO NOT CHANGE THE INITIAL UTILITIES #######\n",
    "\n",
    "        #Car\n",
    "        RealParameter(\"Variable Car cost increase\", 0, 0.1),\n",
    "        #LookupParameters\n",
    "        \n",
    "        #PT\n",
    "        RealParameter(\"Recovery time PT supply\", 0.25, 1.5),\n",
    "        #RealParameter(\"Public transport ticket price Subsidy\", -0.3, 0),\n",
    "    ]\n",
    "\n",
    "        #Look up uncertainties\n",
    "              "
   ]
  },
  {
   "cell_type": "markdown",
   "id": "b81df209",
   "metadata": {},
   "source": [
    "## Perform experiments"
   ]
  },
  {
   "cell_type": "markdown",
   "id": "4d6bcffb",
   "metadata": {},
   "source": [
    "### Experiments for STEP2 & 3: results\n",
    "1000 runs\n"
   ]
  },
  {
   "cell_type": "code",
   "execution_count": null,
   "id": "3e094fd0",
   "metadata": {
    "scrolled": true
   },
   "outputs": [],
   "source": [
    "# SEQUENTIAL\n",
    "\n",
    "results = perform_experiments(model, 1000, reporting_interval=100)\n",
    "\n",
    "#save_results\n",
    "from ema_workbench import save_results\n",
    "save_results(results, r'./results/1408_1000_runs_all_CV_01.tar.gz')\n"
   ]
  },
  {
   "cell_type": "markdown",
   "id": "abd02be2",
   "metadata": {},
   "source": [
    "### Experiments for STEP4: PRIM\n",
    "* 5000 runs\n"
   ]
  },
  {
   "cell_type": "code",
   "execution_count": 5,
   "id": "8e341ea5",
   "metadata": {
    "scrolled": true
   },
   "outputs": [
    {
     "name": "stderr",
     "output_type": "stream",
     "text": [
      "[MainProcess/INFO] performing 5000 scenarios * 1 policies * 1 model(s) = 5000 experiments\n",
      "  0%|                                                 | 0/5000 [00:00<?, ?it/s][MainProcess/INFO] performing experiments sequentially\n",
      "100%|████████████████████████████████████| 5000/5000 [4:52:08<00:00,  3.51s/it]\n",
      "[MainProcess/INFO] experiments finished\n",
      "C:\\Users\\thomas\\anaconda3\\lib\\site-packages\\ema_workbench\\em_framework\\outcomes.py:509: UserWarning: still to be tested!!\n",
      "  warnings.warn(\"still to be tested!!\")\n",
      "[MainProcess/INFO] results saved successfully to C:\\Users\\thomas\\Documents\\MSc TIL\\Afstuderen\\EMAWB\\thesis project\\prim_results\\1508_5000_runs_correct_prim.tar.gz\n"
     ]
    }
   ],
   "source": [
    "#perform experiments\n",
    "nr_experiments = 5000\n",
    "\n",
    "    \n",
    "results5000 = perform_experiments(model, nr_experiments, reporting_interval=100)\n",
    "\n",
    "from ema_workbench import save_results\n",
    "\n",
    "fn = r'./prim_results/1508_5000_runs_correct_prim.tar.gz'.format(nr_experiments)\n",
    "save_results(results5000, fn)"
   ]
  }
 ],
 "metadata": {
  "celltoolbar": "Geen",
  "kernelspec": {
   "display_name": "Python 3 (ipykernel)",
   "language": "python",
   "name": "python3"
  },
  "language_info": {
   "codemirror_mode": {
    "name": "ipython",
    "version": 3
   },
   "file_extension": ".py",
   "mimetype": "text/x-python",
   "name": "python",
   "nbconvert_exporter": "python",
   "pygments_lexer": "ipython3",
   "version": "3.9.12"
  }
 },
 "nbformat": 4,
 "nbformat_minor": 5
}
